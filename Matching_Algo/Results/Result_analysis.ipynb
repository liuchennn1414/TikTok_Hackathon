{
 "cells": [
  {
   "cell_type": "markdown",
   "id": "c88870c5",
   "metadata": {},
   "source": [
    "\n",
    "In this analysis, we merged three performance dataframes (good, ok, and bad performances) and compared the merged dataframe \n",
    "with a random performance dataframe. The comparison was visualized using box plots, and the percentage difference in means \n",
    "for each column was also calculated.\n"
   ]
  },
  {
   "cell_type": "code",
   "execution_count": null,
   "id": "5ecaff24",
   "metadata": {},
   "outputs": [],
   "source": [
    "\n",
    "import pandas as pd\n",
    "import matplotlib.pyplot as plt\n",
    "import seaborn as sns\n",
    "\n",
    "# Load data\n",
    "good = pd.read_csv('/mnt/data/performance_good.csv')\n",
    "ok = pd.read_csv('/mnt/data/performance_ok.csv')\n",
    "bad = pd.read_csv('/mnt/data/performance_bad.csv')\n",
    "random_perf = pd.read_csv('/mnt/data/performance_random.csv')\n",
    "\n",
    "# Merge data\n",
    "merged_df = pd.concat([good, ok, bad], ignore_index=True)\n"
   ]
  },
  {
   "cell_type": "code",
   "execution_count": null,
   "id": "b743eed1",
   "metadata": {},
   "outputs": [],
   "source": [
    "\n",
    "# Set aesthetic parameters\n",
    "sns.set_style(\"whitegrid\")\n",
    "plt.figure(figsize=(15, 10))\n",
    "\n",
    "# List of columns to compare\n",
    "columns_to_compare = merged_df.columns.drop([\"Unnamed: 0\", \"ID\"])\n",
    "\n",
    "# Plotting box plots for each column\n",
    "for idx, column in enumerate(columns_to_compare, 1):\n",
    "    plt.subplot(2, 2, idx)\n",
    "    sns.boxplot(data=[merged_df[column], random_perf[column]], orient=\"h\", palette=\"pastel\")\n",
    "    plt.title(f\"Boxplot of {column}\")\n",
    "    plt.yticks([0, 1], [\"Improved\", \"Random\"])\n",
    "    plt.xlabel(column)\n",
    "\n",
    "plt.tight_layout()\n",
    "plt.show()\n"
   ]
  },
  {
   "cell_type": "code",
   "execution_count": null,
   "id": "4d0ea005",
   "metadata": {},
   "outputs": [],
   "source": [
    "\n",
    "# Calculate percentage difference in means for each column\n",
    "percentage_differences = {}\n",
    "\n",
    "for column in columns_to_compare:\n",
    "    merged_mean = merged_df[column].mean()\n",
    "    random_mean = random_perf[column].mean()\n",
    "    percentage_diff = ((merged_mean - random_mean) / random_mean) * 100\n",
    "    percentage_differences[column] = percentage_diff\n",
    "\n",
    "percentage_differences\n"
   ]
  },
  {
   "cell_type": "code",
   "execution_count": null,
   "id": "cf6177b6",
   "metadata": {},
   "outputs": [],
   "source": [
    "\n",
    "# Plotting histograms for each column\n",
    "plt.figure(figsize=(15, 10))\n",
    "\n",
    "for idx, column in enumerate(columns_to_compare, 1):\n",
    "    plt.subplot(2, 2, idx)\n",
    "    sns.histplot(merged_df[column], color=\"skyblue\", kde=True, label=\"Improved\", alpha=0.5)\n",
    "    sns.histplot(random_perf[column], color=\"salmon\", kde=True, label=\"Random\", alpha=0.5)\n",
    "    plt.title(f\"Histogram of {column}\")\n",
    "    plt.legend()\n",
    "\n",
    "plt.tight_layout()\n",
    "plt.show()\n"
   ]
  }
 ],
 "metadata": {},
 "nbformat": 4,
 "nbformat_minor": 5
}
